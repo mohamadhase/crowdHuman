{
 "cells": [
  {
   "cell_type": "code",
   "execution_count": 1,
   "metadata": {},
   "outputs": [
    {
     "name": "stdout",
     "output_type": "stream",
     "text": [
      "Images successfully copied to the 'images' folder.\n"
     ]
    }
   ],
   "source": [
    "import os\n",
    "import shutil\n",
    "\n",
    "# Source folders\n",
    "source_folders = ['CrowdHuman_train01', 'CrowdHuman_train02', 'CrowdHuman_train03']\n",
    "\n",
    "# Destination folder\n",
    "destination_folder = 'images'\n",
    "\n",
    "# Create the destination folder if it doesn't exist\n",
    "if not os.path.exists(destination_folder):\n",
    "    os.makedirs(destination_folder)\n",
    "\n",
    "# Loop through each source folder\n",
    "for source_folder in source_folders:\n",
    "    # Path to the images folder inside the source folder\n",
    "    images_folder_path = os.path.join(source_folder, 'images')\n",
    "\n",
    "    # Loop through each file in the images folder and copy it to the destination folder\n",
    "    for filename in os.listdir(images_folder_path):\n",
    "        source_file_path = os.path.join(images_folder_path, filename)\n",
    "        destination_file_path = os.path.join(destination_folder, filename)\n",
    "\n",
    "        # Copy the file to the destination folder\n",
    "        shutil.copyfile(source_file_path, destination_file_path)\n",
    "\n",
    "print(\"Images successfully copied to the 'images' folder.\")\n"
   ]
  }
 ],
 "metadata": {
  "kernelspec": {
   "display_name": "pytorch",
   "language": "python",
   "name": "python3"
  },
  "language_info": {
   "codemirror_mode": {
    "name": "ipython",
    "version": 3
   },
   "file_extension": ".py",
   "mimetype": "text/x-python",
   "name": "python",
   "nbconvert_exporter": "python",
   "pygments_lexer": "ipython3",
   "version": "3.7.12"
  }
 },
 "nbformat": 4,
 "nbformat_minor": 2
}
