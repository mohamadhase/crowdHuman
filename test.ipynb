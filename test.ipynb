{
 "cells": [
  {
   "cell_type": "code",
   "execution_count": null,
   "metadata": {},
   "outputs": [],
   "source": [
    "import os\n",
    "import subprocess\n",
    "\n",
    "def add_files_in_steps(folder_path, step_size=3):\n",
    "    # Get a list of all files in the specified folder\n",
    "    all_files = os.listdir(folder_path)\n",
    "\n",
    "    # Calculate the number of steps based on the step size\n",
    "    num_steps = len(all_files) // step_size\n",
    "\n",
    "    # # Iterate through the steps\n",
    "    # for step in range(num_steps):\n",
    "    #     # Determine the range of files to add in the current step\n",
    "    #     start_index = step * step_size\n",
    "    #     end_index = (step + 1) * step_size\n",
    "\n",
    "    #     # Select files for the current step\n",
    "    #     files_to_add = all_files[start_index:end_index]\n",
    "\n",
    "    #     # Iterate through the selected files and add them to the Git staging area\n",
    "    #     for file_name in files_to_add:\n",
    "    #         file_path = os.path.join(folder_path, file_name)\n",
    "    #         subprocess.run(['git', 'add', file_path])\n",
    "\n",
    "    #     # Commit the changes for the current step\n",
    "    #     commit_message = 'Step {}: Add files {} to {}'.format(step + 1, start_index + 1, end_index)\n",
    "    #     subprocess.run(['git', 'commit', '-m', commit_message])\n",
    "    #     # push the changes\n",
    "    #     subprocess.run(['git', 'push', 'origin', 'main'])\n",
    "\n",
    "# Specify the path to your Git repository and the folder containing the files\n",
    "repository_path = '.'\n",
    "folder_name = 'val/images'\n",
    "\n",
    "# Full path to the folder\n",
    "folder_path = os.path.join(repository_path, folder_name)\n",
    "\n",
    "# Call the function to add files in three steps\n",
    "add_files_in_steps(folder_path)\n"
   ]
  }
 ],
 "metadata": {
  "language_info": {
   "name": "python"
  }
 },
 "nbformat": 4,
 "nbformat_minor": 2
}
