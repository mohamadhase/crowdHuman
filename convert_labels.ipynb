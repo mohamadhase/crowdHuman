{
 "cells": [
  {
   "cell_type": "code",
   "execution_count": 9,
   "metadata": {},
   "outputs": [],
   "source": [
    "train_annotation = \"annotation_train.odgt\"\n",
    "val_annotation = \"annotation_val.odgt\"\n",
    "import cv2"
   ]
  },
  {
   "cell_type": "code",
   "execution_count": 16,
   "metadata": {},
   "outputs": [],
   "source": [
    "from collections import defaultdict\n",
    "import json\n",
    "import os\n",
    "with open(train_annotation, \"r\") as f:\n",
    "    train_data = f.readlines()\n",
    "with open(val_annotation, \"r\") as f:\n",
    "    val_data = f.readlines()\n",
    "train_data = [json.loads(x) for x in train_data]\n",
    "val_data = [json.loads(x) for x in val_data]\n",
    "images_path = \"val/images\"\n",
    "labels_path = \"val/labels\""
   ]
  },
  {
   "cell_type": "code",
   "execution_count": 17,
   "metadata": {},
   "outputs": [
    {
     "name": "stdout",
     "output_type": "stream",
     "text": [
      "Conversion to YOLO format completed.\n"
     ]
    }
   ],
   "source": [
    "for annotation in val_data:\n",
    "    image_id = annotation[\"ID\"]  # Extracting image name without extension\n",
    "    image_path = os.path.join(images_path, f'{annotation[\"ID\"]}.jpg')\n",
    "    # read the image and get the image dimensions\n",
    "    image = cv2.imread(image_path)\n",
    "    image_height, image_width, _ = image.shape\n",
    "\n",
    "    # Create YOLO format label file\n",
    "    label_file_path = os.path.join(labels_path, f\"{image_id}.txt\")\n",
    "    with open(label_file_path, \"w\") as label_file:\n",
    "        for gtbox in annotation[\"gtboxes\"]:\n",
    "            if gtbox[\"tag\"] == \"person\":\n",
    "                # Convert YOLO format and write to the label file\n",
    "                x, y, w, h = gtbox[\"hbox\"]  # Assuming you want to use visible box\n",
    "                x_center = x + w / 2\n",
    "                y_center = y + h / 2\n",
    "                normalized_x_center = x_center / image_width\n",
    "                normalized_y_center = y_center / image_height\n",
    "                normalized_width = w / image_width\n",
    "                normalized_height = h / image_height\n",
    "\n",
    "                label_file.write(f\"0 {normalized_x_center} {normalized_y_center} {normalized_width} {normalized_height}\\n\")\n",
    "\n",
    "print(\"Conversion to YOLO format completed.\")"
   ]
  },
  {
   "cell_type": "code",
   "execution_count": 13,
   "metadata": {},
   "outputs": [],
   "source": [
    "test_image_path = \"train/images/273271,1a27b000f0c7a077.jpg\"\n",
    "test_label_path = \"train/labels/273271,1a27b000f0c7a077.txt\"\n",
    "\n",
    "\n",
    "import matplotlib.pyplot as plt\n",
    "import matplotlib.patches as patches\n",
    "from PIL import Image\n",
    "\n",
    "def visualize_yolo(image_path, yolo_annotations_file):\n",
    "    # Open the image\n",
    "    img = Image.open(image_path)\n",
    "\n",
    "    # Create figure and axes\n",
    "    fig, ax = plt.subplots(1)\n",
    "    ax.imshow(img)\n",
    "\n",
    "    # Read YOLO annotations from file\n",
    "    with open(yolo_annotations_file, 'r') as f:\n",
    "        yolo_annotations = f.read().splitlines()\n",
    "\n",
    "    # Parse YOLO annotations and draw bounding boxes\n",
    "    for annotation in yolo_annotations:\n",
    "        class_name, x_center, y_center, width, height = annotation.split()\n",
    "        x_center, y_center, width, height = float(x_center), float(y_center), float(width), float(height)\n",
    "\n",
    "        # Convert YOLO coordinates to image coordinates\n",
    "        img_width, img_height = img.size\n",
    "        xmin = int((x_center - width / 2) * img_width)\n",
    "        ymin = int((y_center - height / 2) * img_height)\n",
    "        xmax = int((x_center + width / 2) * img_width)\n",
    "        ymax = int((y_center + height / 2) * img_height)\n",
    "\n",
    "        # Create a Rectangle patch\n",
    "        rect = patches.Rectangle((xmin, ymin), xmax - xmin, ymax - ymin, linewidth=2, edgecolor='r', facecolor='none')\n",
    "\n",
    "        # Add the patch to the Axes\n",
    "        ax.add_patch(rect)\n",
    "\n",
    "\n",
    "    # Show the image with bounding boxes\n",
    "    plt.show()\n"
   ]
  }
 ],
 "metadata": {
  "kernelspec": {
   "display_name": "pytorch",
   "language": "python",
   "name": "python3"
  },
  "language_info": {
   "codemirror_mode": {
    "name": "ipython",
    "version": 3
   },
   "file_extension": ".py",
   "mimetype": "text/x-python",
   "name": "python",
   "nbconvert_exporter": "python",
   "pygments_lexer": "ipython3",
   "version": "3.7.12"
  }
 },
 "nbformat": 4,
 "nbformat_minor": 2
}
